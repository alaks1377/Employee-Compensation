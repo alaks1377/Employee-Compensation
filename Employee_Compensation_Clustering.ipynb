{
  "nbformat": 4,
  "nbformat_minor": 0,
  "metadata": {
    "colab": {
      "provenance": [],
      "collapsed_sections": [],
      "authorship_tag": "ABX9TyO1elv3wYNdrRtpugxXZ0CQ",
      "include_colab_link": true
    },
    "kernelspec": {
      "name": "python3",
      "display_name": "Python 3"
    },
    "language_info": {
      "name": "python"
    }
  },
  "cells": [
    {
      "cell_type": "markdown",
      "metadata": {
        "id": "view-in-github",
        "colab_type": "text"
      },
      "source": [
        "<a href=\"https://colab.research.google.com/github/alaks1377/Employee-Compensation/blob/main/Employee_Compensation_Clustering.ipynb\" target=\"_parent\"><img src=\"https://colab.research.google.com/assets/colab-badge.svg\" alt=\"Open In Colab\"/></a>"
      ]
    },
    {
      "cell_type": "code",
      "execution_count": null,
      "metadata": {
        "id": "sQnkx4SXXeLm"
      },
      "outputs": [],
      "source": [
        "import pandas as pd\n",
        "import numpy as np\n",
        "import seaborn as sns \n",
        "import matplotlib.pyplot as plt"
      ]
    },
    {
      "cell_type": "code",
      "source": [
        "data = pd.read_csv('/content/Employee_Salary_Compensation.csv')"
      ],
      "metadata": {
        "id": "8C9dZ4ZhXl4o"
      },
      "execution_count": null,
      "outputs": []
    },
    {
      "cell_type": "code",
      "source": [
        "data.head()"
      ],
      "metadata": {
        "colab": {
          "base_uri": "https://localhost:8080/",
          "height": 594
        },
        "id": "EBViCfA3Xs4x",
        "outputId": "def9f4ab-7f74-4fd6-9d13-c32593b0a235"
      },
      "execution_count": null,
      "outputs": [
        {
          "output_type": "execute_result",
          "data": {
            "text/plain": [
              "   Organization Group Code Job Family Code Job Code Year Type    Year  \\\n",
              "0                        1            1000     1021  Calendar  2013.0   \n",
              "1                        1            1000     1023  Calendar  2013.0   \n",
              "2                        1            1000     1031  Calendar  2013.0   \n",
              "3                        1            1000     1054  Calendar  2013.0   \n",
              "4                        1            1000     1062  Calendar  2013.0   \n",
              "\n",
              "  Organization Group Department Code           Department  Union Code  \\\n",
              "0  Public Protection             ADP  ADP Adult Probation        21.0   \n",
              "1  Public Protection             ADP  ADP Adult Probation        21.0   \n",
              "2  Public Protection             ADP  ADP Adult Probation        21.0   \n",
              "3  Public Protection             ADP  ADP Adult Probation        21.0   \n",
              "4  Public Protection             ADP  ADP Adult Probation        21.0   \n",
              "\n",
              "                                             Union  ... Employee Identifier  \\\n",
              "0  Prof & Tech Engineers - Miscellaneous, Local 21  ...             37730.0   \n",
              "1  Prof & Tech Engineers - Miscellaneous, Local 21  ...             26574.0   \n",
              "2  Prof & Tech Engineers - Miscellaneous, Local 21  ...              8148.0   \n",
              "3  Prof & Tech Engineers - Miscellaneous, Local 21  ...             27436.0   \n",
              "4  Prof & Tech Engineers - Miscellaneous, Local 21  ...             37730.0   \n",
              "\n",
              "    Salaries  Overtime  Other Salaries  Total Salary  Retirement  \\\n",
              "0   57534.65       0.0            0.00      57534.65    11253.16   \n",
              "1   57678.50       0.0            0.00      57678.50    10284.88   \n",
              "2   63532.93       0.0            0.00      63532.93    12495.83   \n",
              "3  101274.51       0.0        -7058.59      94215.92    19644.45   \n",
              "4    5084.00       0.0            0.00       5084.00     1083.90   \n",
              "\n",
              "   Health and Dental  Other Benefits  Total Benefits  Total Compensation  \n",
              "0           11961.34         4532.63        27747.13            85281.78  \n",
              "1            7176.80         4755.14        22216.82            79895.32  \n",
              "2           12918.24         4702.71        30116.78            93649.71  \n",
              "3           12918.24         7458.76        40021.45           134237.37  \n",
              "4             956.91          387.50         2428.31             7512.31  \n",
              "\n",
              "[5 rows x 22 columns]"
            ],
            "text/html": [
              "\n",
              "  <div id=\"df-a9f9e106-1853-4cd6-bc80-304c4c0f9d97\">\n",
              "    <div class=\"colab-df-container\">\n",
              "      <div>\n",
              "<style scoped>\n",
              "    .dataframe tbody tr th:only-of-type {\n",
              "        vertical-align: middle;\n",
              "    }\n",
              "\n",
              "    .dataframe tbody tr th {\n",
              "        vertical-align: top;\n",
              "    }\n",
              "\n",
              "    .dataframe thead th {\n",
              "        text-align: right;\n",
              "    }\n",
              "</style>\n",
              "<table border=\"1\" class=\"dataframe\">\n",
              "  <thead>\n",
              "    <tr style=\"text-align: right;\">\n",
              "      <th></th>\n",
              "      <th>Organization Group Code</th>\n",
              "      <th>Job Family Code</th>\n",
              "      <th>Job Code</th>\n",
              "      <th>Year Type</th>\n",
              "      <th>Year</th>\n",
              "      <th>Organization Group</th>\n",
              "      <th>Department Code</th>\n",
              "      <th>Department</th>\n",
              "      <th>Union Code</th>\n",
              "      <th>Union</th>\n",
              "      <th>...</th>\n",
              "      <th>Employee Identifier</th>\n",
              "      <th>Salaries</th>\n",
              "      <th>Overtime</th>\n",
              "      <th>Other Salaries</th>\n",
              "      <th>Total Salary</th>\n",
              "      <th>Retirement</th>\n",
              "      <th>Health and Dental</th>\n",
              "      <th>Other Benefits</th>\n",
              "      <th>Total Benefits</th>\n",
              "      <th>Total Compensation</th>\n",
              "    </tr>\n",
              "  </thead>\n",
              "  <tbody>\n",
              "    <tr>\n",
              "      <th>0</th>\n",
              "      <td>1</td>\n",
              "      <td>1000</td>\n",
              "      <td>1021</td>\n",
              "      <td>Calendar</td>\n",
              "      <td>2013.0</td>\n",
              "      <td>Public Protection</td>\n",
              "      <td>ADP</td>\n",
              "      <td>ADP Adult Probation</td>\n",
              "      <td>21.0</td>\n",
              "      <td>Prof &amp; Tech Engineers - Miscellaneous, Local 21</td>\n",
              "      <td>...</td>\n",
              "      <td>37730.0</td>\n",
              "      <td>57534.65</td>\n",
              "      <td>0.0</td>\n",
              "      <td>0.00</td>\n",
              "      <td>57534.65</td>\n",
              "      <td>11253.16</td>\n",
              "      <td>11961.34</td>\n",
              "      <td>4532.63</td>\n",
              "      <td>27747.13</td>\n",
              "      <td>85281.78</td>\n",
              "    </tr>\n",
              "    <tr>\n",
              "      <th>1</th>\n",
              "      <td>1</td>\n",
              "      <td>1000</td>\n",
              "      <td>1023</td>\n",
              "      <td>Calendar</td>\n",
              "      <td>2013.0</td>\n",
              "      <td>Public Protection</td>\n",
              "      <td>ADP</td>\n",
              "      <td>ADP Adult Probation</td>\n",
              "      <td>21.0</td>\n",
              "      <td>Prof &amp; Tech Engineers - Miscellaneous, Local 21</td>\n",
              "      <td>...</td>\n",
              "      <td>26574.0</td>\n",
              "      <td>57678.50</td>\n",
              "      <td>0.0</td>\n",
              "      <td>0.00</td>\n",
              "      <td>57678.50</td>\n",
              "      <td>10284.88</td>\n",
              "      <td>7176.80</td>\n",
              "      <td>4755.14</td>\n",
              "      <td>22216.82</td>\n",
              "      <td>79895.32</td>\n",
              "    </tr>\n",
              "    <tr>\n",
              "      <th>2</th>\n",
              "      <td>1</td>\n",
              "      <td>1000</td>\n",
              "      <td>1031</td>\n",
              "      <td>Calendar</td>\n",
              "      <td>2013.0</td>\n",
              "      <td>Public Protection</td>\n",
              "      <td>ADP</td>\n",
              "      <td>ADP Adult Probation</td>\n",
              "      <td>21.0</td>\n",
              "      <td>Prof &amp; Tech Engineers - Miscellaneous, Local 21</td>\n",
              "      <td>...</td>\n",
              "      <td>8148.0</td>\n",
              "      <td>63532.93</td>\n",
              "      <td>0.0</td>\n",
              "      <td>0.00</td>\n",
              "      <td>63532.93</td>\n",
              "      <td>12495.83</td>\n",
              "      <td>12918.24</td>\n",
              "      <td>4702.71</td>\n",
              "      <td>30116.78</td>\n",
              "      <td>93649.71</td>\n",
              "    </tr>\n",
              "    <tr>\n",
              "      <th>3</th>\n",
              "      <td>1</td>\n",
              "      <td>1000</td>\n",
              "      <td>1054</td>\n",
              "      <td>Calendar</td>\n",
              "      <td>2013.0</td>\n",
              "      <td>Public Protection</td>\n",
              "      <td>ADP</td>\n",
              "      <td>ADP Adult Probation</td>\n",
              "      <td>21.0</td>\n",
              "      <td>Prof &amp; Tech Engineers - Miscellaneous, Local 21</td>\n",
              "      <td>...</td>\n",
              "      <td>27436.0</td>\n",
              "      <td>101274.51</td>\n",
              "      <td>0.0</td>\n",
              "      <td>-7058.59</td>\n",
              "      <td>94215.92</td>\n",
              "      <td>19644.45</td>\n",
              "      <td>12918.24</td>\n",
              "      <td>7458.76</td>\n",
              "      <td>40021.45</td>\n",
              "      <td>134237.37</td>\n",
              "    </tr>\n",
              "    <tr>\n",
              "      <th>4</th>\n",
              "      <td>1</td>\n",
              "      <td>1000</td>\n",
              "      <td>1062</td>\n",
              "      <td>Calendar</td>\n",
              "      <td>2013.0</td>\n",
              "      <td>Public Protection</td>\n",
              "      <td>ADP</td>\n",
              "      <td>ADP Adult Probation</td>\n",
              "      <td>21.0</td>\n",
              "      <td>Prof &amp; Tech Engineers - Miscellaneous, Local 21</td>\n",
              "      <td>...</td>\n",
              "      <td>37730.0</td>\n",
              "      <td>5084.00</td>\n",
              "      <td>0.0</td>\n",
              "      <td>0.00</td>\n",
              "      <td>5084.00</td>\n",
              "      <td>1083.90</td>\n",
              "      <td>956.91</td>\n",
              "      <td>387.50</td>\n",
              "      <td>2428.31</td>\n",
              "      <td>7512.31</td>\n",
              "    </tr>\n",
              "  </tbody>\n",
              "</table>\n",
              "<p>5 rows × 22 columns</p>\n",
              "</div>\n",
              "      <button class=\"colab-df-convert\" onclick=\"convertToInteractive('df-a9f9e106-1853-4cd6-bc80-304c4c0f9d97')\"\n",
              "              title=\"Convert this dataframe to an interactive table.\"\n",
              "              style=\"display:none;\">\n",
              "        \n",
              "  <svg xmlns=\"http://www.w3.org/2000/svg\" height=\"24px\"viewBox=\"0 0 24 24\"\n",
              "       width=\"24px\">\n",
              "    <path d=\"M0 0h24v24H0V0z\" fill=\"none\"/>\n",
              "    <path d=\"M18.56 5.44l.94 2.06.94-2.06 2.06-.94-2.06-.94-.94-2.06-.94 2.06-2.06.94zm-11 1L8.5 8.5l.94-2.06 2.06-.94-2.06-.94L8.5 2.5l-.94 2.06-2.06.94zm10 10l.94 2.06.94-2.06 2.06-.94-2.06-.94-.94-2.06-.94 2.06-2.06.94z\"/><path d=\"M17.41 7.96l-1.37-1.37c-.4-.4-.92-.59-1.43-.59-.52 0-1.04.2-1.43.59L10.3 9.45l-7.72 7.72c-.78.78-.78 2.05 0 2.83L4 21.41c.39.39.9.59 1.41.59.51 0 1.02-.2 1.41-.59l7.78-7.78 2.81-2.81c.8-.78.8-2.07 0-2.86zM5.41 20L4 18.59l7.72-7.72 1.47 1.35L5.41 20z\"/>\n",
              "  </svg>\n",
              "      </button>\n",
              "      \n",
              "  <style>\n",
              "    .colab-df-container {\n",
              "      display:flex;\n",
              "      flex-wrap:wrap;\n",
              "      gap: 12px;\n",
              "    }\n",
              "\n",
              "    .colab-df-convert {\n",
              "      background-color: #E8F0FE;\n",
              "      border: none;\n",
              "      border-radius: 50%;\n",
              "      cursor: pointer;\n",
              "      display: none;\n",
              "      fill: #1967D2;\n",
              "      height: 32px;\n",
              "      padding: 0 0 0 0;\n",
              "      width: 32px;\n",
              "    }\n",
              "\n",
              "    .colab-df-convert:hover {\n",
              "      background-color: #E2EBFA;\n",
              "      box-shadow: 0px 1px 2px rgba(60, 64, 67, 0.3), 0px 1px 3px 1px rgba(60, 64, 67, 0.15);\n",
              "      fill: #174EA6;\n",
              "    }\n",
              "\n",
              "    [theme=dark] .colab-df-convert {\n",
              "      background-color: #3B4455;\n",
              "      fill: #D2E3FC;\n",
              "    }\n",
              "\n",
              "    [theme=dark] .colab-df-convert:hover {\n",
              "      background-color: #434B5C;\n",
              "      box-shadow: 0px 1px 3px 1px rgba(0, 0, 0, 0.15);\n",
              "      filter: drop-shadow(0px 1px 2px rgba(0, 0, 0, 0.3));\n",
              "      fill: #FFFFFF;\n",
              "    }\n",
              "  </style>\n",
              "\n",
              "      <script>\n",
              "        const buttonEl =\n",
              "          document.querySelector('#df-a9f9e106-1853-4cd6-bc80-304c4c0f9d97 button.colab-df-convert');\n",
              "        buttonEl.style.display =\n",
              "          google.colab.kernel.accessAllowed ? 'block' : 'none';\n",
              "\n",
              "        async function convertToInteractive(key) {\n",
              "          const element = document.querySelector('#df-a9f9e106-1853-4cd6-bc80-304c4c0f9d97');\n",
              "          const dataTable =\n",
              "            await google.colab.kernel.invokeFunction('convertToInteractive',\n",
              "                                                     [key], {});\n",
              "          if (!dataTable) return;\n",
              "\n",
              "          const docLinkHtml = 'Like what you see? Visit the ' +\n",
              "            '<a target=\"_blank\" href=https://colab.research.google.com/notebooks/data_table.ipynb>data table notebook</a>'\n",
              "            + ' to learn more about interactive tables.';\n",
              "          element.innerHTML = '';\n",
              "          dataTable['output_type'] = 'display_data';\n",
              "          await google.colab.output.renderOutput(dataTable, element);\n",
              "          const docLink = document.createElement('div');\n",
              "          docLink.innerHTML = docLinkHtml;\n",
              "          element.appendChild(docLink);\n",
              "        }\n",
              "      </script>\n",
              "    </div>\n",
              "  </div>\n",
              "  "
            ]
          },
          "metadata": {},
          "execution_count": 3
        }
      ]
    },
    {
      "cell_type": "code",
      "source": [
        "data.shape"
      ],
      "metadata": {
        "colab": {
          "base_uri": "https://localhost:8080/"
        },
        "id": "TV9klZiBW5aC",
        "outputId": "851f0317-2c54-4533-b8a1-cfb763b70942"
      },
      "execution_count": null,
      "outputs": [
        {
          "output_type": "execute_result",
          "data": {
            "text/plain": [
              "(384564, 22)"
            ]
          },
          "metadata": {},
          "execution_count": 4
        }
      ]
    },
    {
      "cell_type": "code",
      "source": [
        "data.info()"
      ],
      "metadata": {
        "colab": {
          "base_uri": "https://localhost:8080/"
        },
        "id": "tYJ1XPx7XymI",
        "outputId": "5b616976-418d-46dc-d1a0-83676672892e"
      },
      "execution_count": null,
      "outputs": [
        {
          "output_type": "stream",
          "name": "stdout",
          "text": [
            "<class 'pandas.core.frame.DataFrame'>\n",
            "RangeIndex: 384564 entries, 0 to 384563\n",
            "Data columns (total 22 columns):\n",
            " #   Column                   Non-Null Count   Dtype  \n",
            "---  ------                   --------------   -----  \n",
            " 0   Organization Group Code  384564 non-null  int64  \n",
            " 1   Job Family Code          384564 non-null  object \n",
            " 2   Job Code                 384564 non-null  object \n",
            " 3   Year Type                384564 non-null  object \n",
            " 4   Year                     384563 non-null  float64\n",
            " 5   Organization Group       384563 non-null  object \n",
            " 6   Department Code          384563 non-null  object \n",
            " 7   Department               384563 non-null  object \n",
            " 8   Union Code               384427 non-null  float64\n",
            " 9   Union                    384427 non-null  object \n",
            " 10  Job Family               384563 non-null  object \n",
            " 11  Job                      384562 non-null  object \n",
            " 12  Employee Identifier      384563 non-null  float64\n",
            " 13  Salaries                 384563 non-null  float64\n",
            " 14  Overtime                 384563 non-null  float64\n",
            " 15  Other Salaries           384563 non-null  float64\n",
            " 16  Total Salary             384563 non-null  float64\n",
            " 17  Retirement               384563 non-null  float64\n",
            " 18  Health and Dental        384563 non-null  float64\n",
            " 19  Other Benefits           384563 non-null  float64\n",
            " 20  Total Benefits           384563 non-null  float64\n",
            " 21  Total Compensation       384563 non-null  float64\n",
            "dtypes: float64(12), int64(1), object(9)\n",
            "memory usage: 64.5+ MB\n"
          ]
        }
      ]
    },
    {
      "cell_type": "code",
      "source": [
        "data.isnull().sum()"
      ],
      "metadata": {
        "colab": {
          "base_uri": "https://localhost:8080/"
        },
        "id": "frGuwsz8cj-H",
        "outputId": "56465d7f-1ad8-46a1-9568-56d7908c0190"
      },
      "execution_count": null,
      "outputs": [
        {
          "output_type": "execute_result",
          "data": {
            "text/plain": [
              "Organization Group Code      0\n",
              "Job Family Code              0\n",
              "Job Code                     0\n",
              "Year Type                    0\n",
              "Year                         1\n",
              "Organization Group           1\n",
              "Department Code              1\n",
              "Department                   1\n",
              "Union Code                 137\n",
              "Union                      137\n",
              "Job Family                   1\n",
              "Job                          2\n",
              "Employee Identifier          1\n",
              "Salaries                     1\n",
              "Overtime                     1\n",
              "Other Salaries               1\n",
              "Total Salary                 1\n",
              "Retirement                   1\n",
              "Health and Dental            1\n",
              "Other Benefits               1\n",
              "Total Benefits               1\n",
              "Total Compensation           1\n",
              "dtype: int64"
            ]
          },
          "metadata": {},
          "execution_count": 6
        }
      ]
    },
    {
      "cell_type": "code",
      "source": [
        "data.describe()"
      ],
      "metadata": {
        "colab": {
          "base_uri": "https://localhost:8080/",
          "height": 382
        },
        "id": "M04hdz3LXvSh",
        "outputId": "277184c1-bde6-445b-dac9-7791e8e1ae83"
      },
      "execution_count": null,
      "outputs": [
        {
          "output_type": "execute_result",
          "data": {
            "text/plain": [
              "       Organization Group Code           Year     Union Code  \\\n",
              "count            384564.000000  384563.000000  384427.000000   \n",
              "mean                  2.947208    2016.127797     495.739436   \n",
              "std                   1.588922       2.397199     331.089207   \n",
              "min                   1.000000    2013.000000       1.000000   \n",
              "25%                   2.000000    2014.000000     250.000000   \n",
              "50%                   2.000000    2016.000000     535.000000   \n",
              "75%                   4.000000    2018.000000     790.000000   \n",
              "max                   7.000000    2020.000000     990.000000   \n",
              "\n",
              "       Employee Identifier       Salaries       Overtime  Other Salaries  \\\n",
              "count         3.845630e+05  384563.000000  384563.000000   384563.000000   \n",
              "mean          1.762440e+07   70811.586607    5570.071340     3986.243299   \n",
              "std           1.980863e+07   47883.649850   13312.862653     8741.301692   \n",
              "min           0.000000e+00  -68771.780000   -1072.880000    -7058.590000   \n",
              "25%           2.557050e+04   31461.020000       0.000000        0.000000   \n",
              "50%           5.117100e+04   68911.100000       0.000000      773.770000   \n",
              "75%           3.790620e+07  102011.885000    4383.665000     4639.930000   \n",
              "max           4.609664e+07  596615.860000  315896.410000   568163.120000   \n",
              "\n",
              "        Total Salary     Retirement  Health and Dental  Other Benefits  \\\n",
              "count  384563.000000  384563.000000      384563.000000   384563.000000   \n",
              "mean    80170.254352   14124.776732       10134.497427     5064.713602   \n",
              "std     56088.040117   10389.961406        5767.935140     3734.461593   \n",
              "min    -68771.780000  -30621.430000       -3831.090000   -10636.500000   \n",
              "25%     34570.570000    5296.840000        5101.675000     1940.685000   \n",
              "50%     76165.600000   14255.420000       12726.400000     4916.410000   \n",
              "75%    114499.025000   20635.070000       14188.410000     7558.880000   \n",
              "max    596615.860000  128694.620000       59405.230000    35691.040000   \n",
              "\n",
              "       Total Benefits  Total Compensation  \n",
              "count   384563.000000       384563.000000  \n",
              "mean     29323.987762       109494.242114  \n",
              "std      18064.162082        72749.920931  \n",
              "min     -21295.150000       -74082.610000  \n",
              "25%      12994.185000        48283.155000  \n",
              "50%      33017.470000       109449.830000  \n",
              "75%      41417.320000       156881.760000  \n",
              "max     166068.180000       762684.040000  "
            ],
            "text/html": [
              "\n",
              "  <div id=\"df-175227d7-033e-45af-8311-62fa76981afa\">\n",
              "    <div class=\"colab-df-container\">\n",
              "      <div>\n",
              "<style scoped>\n",
              "    .dataframe tbody tr th:only-of-type {\n",
              "        vertical-align: middle;\n",
              "    }\n",
              "\n",
              "    .dataframe tbody tr th {\n",
              "        vertical-align: top;\n",
              "    }\n",
              "\n",
              "    .dataframe thead th {\n",
              "        text-align: right;\n",
              "    }\n",
              "</style>\n",
              "<table border=\"1\" class=\"dataframe\">\n",
              "  <thead>\n",
              "    <tr style=\"text-align: right;\">\n",
              "      <th></th>\n",
              "      <th>Organization Group Code</th>\n",
              "      <th>Year</th>\n",
              "      <th>Union Code</th>\n",
              "      <th>Employee Identifier</th>\n",
              "      <th>Salaries</th>\n",
              "      <th>Overtime</th>\n",
              "      <th>Other Salaries</th>\n",
              "      <th>Total Salary</th>\n",
              "      <th>Retirement</th>\n",
              "      <th>Health and Dental</th>\n",
              "      <th>Other Benefits</th>\n",
              "      <th>Total Benefits</th>\n",
              "      <th>Total Compensation</th>\n",
              "    </tr>\n",
              "  </thead>\n",
              "  <tbody>\n",
              "    <tr>\n",
              "      <th>count</th>\n",
              "      <td>384564.000000</td>\n",
              "      <td>384563.000000</td>\n",
              "      <td>384427.000000</td>\n",
              "      <td>3.845630e+05</td>\n",
              "      <td>384563.000000</td>\n",
              "      <td>384563.000000</td>\n",
              "      <td>384563.000000</td>\n",
              "      <td>384563.000000</td>\n",
              "      <td>384563.000000</td>\n",
              "      <td>384563.000000</td>\n",
              "      <td>384563.000000</td>\n",
              "      <td>384563.000000</td>\n",
              "      <td>384563.000000</td>\n",
              "    </tr>\n",
              "    <tr>\n",
              "      <th>mean</th>\n",
              "      <td>2.947208</td>\n",
              "      <td>2016.127797</td>\n",
              "      <td>495.739436</td>\n",
              "      <td>1.762440e+07</td>\n",
              "      <td>70811.586607</td>\n",
              "      <td>5570.071340</td>\n",
              "      <td>3986.243299</td>\n",
              "      <td>80170.254352</td>\n",
              "      <td>14124.776732</td>\n",
              "      <td>10134.497427</td>\n",
              "      <td>5064.713602</td>\n",
              "      <td>29323.987762</td>\n",
              "      <td>109494.242114</td>\n",
              "    </tr>\n",
              "    <tr>\n",
              "      <th>std</th>\n",
              "      <td>1.588922</td>\n",
              "      <td>2.397199</td>\n",
              "      <td>331.089207</td>\n",
              "      <td>1.980863e+07</td>\n",
              "      <td>47883.649850</td>\n",
              "      <td>13312.862653</td>\n",
              "      <td>8741.301692</td>\n",
              "      <td>56088.040117</td>\n",
              "      <td>10389.961406</td>\n",
              "      <td>5767.935140</td>\n",
              "      <td>3734.461593</td>\n",
              "      <td>18064.162082</td>\n",
              "      <td>72749.920931</td>\n",
              "    </tr>\n",
              "    <tr>\n",
              "      <th>min</th>\n",
              "      <td>1.000000</td>\n",
              "      <td>2013.000000</td>\n",
              "      <td>1.000000</td>\n",
              "      <td>0.000000e+00</td>\n",
              "      <td>-68771.780000</td>\n",
              "      <td>-1072.880000</td>\n",
              "      <td>-7058.590000</td>\n",
              "      <td>-68771.780000</td>\n",
              "      <td>-30621.430000</td>\n",
              "      <td>-3831.090000</td>\n",
              "      <td>-10636.500000</td>\n",
              "      <td>-21295.150000</td>\n",
              "      <td>-74082.610000</td>\n",
              "    </tr>\n",
              "    <tr>\n",
              "      <th>25%</th>\n",
              "      <td>2.000000</td>\n",
              "      <td>2014.000000</td>\n",
              "      <td>250.000000</td>\n",
              "      <td>2.557050e+04</td>\n",
              "      <td>31461.020000</td>\n",
              "      <td>0.000000</td>\n",
              "      <td>0.000000</td>\n",
              "      <td>34570.570000</td>\n",
              "      <td>5296.840000</td>\n",
              "      <td>5101.675000</td>\n",
              "      <td>1940.685000</td>\n",
              "      <td>12994.185000</td>\n",
              "      <td>48283.155000</td>\n",
              "    </tr>\n",
              "    <tr>\n",
              "      <th>50%</th>\n",
              "      <td>2.000000</td>\n",
              "      <td>2016.000000</td>\n",
              "      <td>535.000000</td>\n",
              "      <td>5.117100e+04</td>\n",
              "      <td>68911.100000</td>\n",
              "      <td>0.000000</td>\n",
              "      <td>773.770000</td>\n",
              "      <td>76165.600000</td>\n",
              "      <td>14255.420000</td>\n",
              "      <td>12726.400000</td>\n",
              "      <td>4916.410000</td>\n",
              "      <td>33017.470000</td>\n",
              "      <td>109449.830000</td>\n",
              "    </tr>\n",
              "    <tr>\n",
              "      <th>75%</th>\n",
              "      <td>4.000000</td>\n",
              "      <td>2018.000000</td>\n",
              "      <td>790.000000</td>\n",
              "      <td>3.790620e+07</td>\n",
              "      <td>102011.885000</td>\n",
              "      <td>4383.665000</td>\n",
              "      <td>4639.930000</td>\n",
              "      <td>114499.025000</td>\n",
              "      <td>20635.070000</td>\n",
              "      <td>14188.410000</td>\n",
              "      <td>7558.880000</td>\n",
              "      <td>41417.320000</td>\n",
              "      <td>156881.760000</td>\n",
              "    </tr>\n",
              "    <tr>\n",
              "      <th>max</th>\n",
              "      <td>7.000000</td>\n",
              "      <td>2020.000000</td>\n",
              "      <td>990.000000</td>\n",
              "      <td>4.609664e+07</td>\n",
              "      <td>596615.860000</td>\n",
              "      <td>315896.410000</td>\n",
              "      <td>568163.120000</td>\n",
              "      <td>596615.860000</td>\n",
              "      <td>128694.620000</td>\n",
              "      <td>59405.230000</td>\n",
              "      <td>35691.040000</td>\n",
              "      <td>166068.180000</td>\n",
              "      <td>762684.040000</td>\n",
              "    </tr>\n",
              "  </tbody>\n",
              "</table>\n",
              "</div>\n",
              "      <button class=\"colab-df-convert\" onclick=\"convertToInteractive('df-175227d7-033e-45af-8311-62fa76981afa')\"\n",
              "              title=\"Convert this dataframe to an interactive table.\"\n",
              "              style=\"display:none;\">\n",
              "        \n",
              "  <svg xmlns=\"http://www.w3.org/2000/svg\" height=\"24px\"viewBox=\"0 0 24 24\"\n",
              "       width=\"24px\">\n",
              "    <path d=\"M0 0h24v24H0V0z\" fill=\"none\"/>\n",
              "    <path d=\"M18.56 5.44l.94 2.06.94-2.06 2.06-.94-2.06-.94-.94-2.06-.94 2.06-2.06.94zm-11 1L8.5 8.5l.94-2.06 2.06-.94-2.06-.94L8.5 2.5l-.94 2.06-2.06.94zm10 10l.94 2.06.94-2.06 2.06-.94-2.06-.94-.94-2.06-.94 2.06-2.06.94z\"/><path d=\"M17.41 7.96l-1.37-1.37c-.4-.4-.92-.59-1.43-.59-.52 0-1.04.2-1.43.59L10.3 9.45l-7.72 7.72c-.78.78-.78 2.05 0 2.83L4 21.41c.39.39.9.59 1.41.59.51 0 1.02-.2 1.41-.59l7.78-7.78 2.81-2.81c.8-.78.8-2.07 0-2.86zM5.41 20L4 18.59l7.72-7.72 1.47 1.35L5.41 20z\"/>\n",
              "  </svg>\n",
              "      </button>\n",
              "      \n",
              "  <style>\n",
              "    .colab-df-container {\n",
              "      display:flex;\n",
              "      flex-wrap:wrap;\n",
              "      gap: 12px;\n",
              "    }\n",
              "\n",
              "    .colab-df-convert {\n",
              "      background-color: #E8F0FE;\n",
              "      border: none;\n",
              "      border-radius: 50%;\n",
              "      cursor: pointer;\n",
              "      display: none;\n",
              "      fill: #1967D2;\n",
              "      height: 32px;\n",
              "      padding: 0 0 0 0;\n",
              "      width: 32px;\n",
              "    }\n",
              "\n",
              "    .colab-df-convert:hover {\n",
              "      background-color: #E2EBFA;\n",
              "      box-shadow: 0px 1px 2px rgba(60, 64, 67, 0.3), 0px 1px 3px 1px rgba(60, 64, 67, 0.15);\n",
              "      fill: #174EA6;\n",
              "    }\n",
              "\n",
              "    [theme=dark] .colab-df-convert {\n",
              "      background-color: #3B4455;\n",
              "      fill: #D2E3FC;\n",
              "    }\n",
              "\n",
              "    [theme=dark] .colab-df-convert:hover {\n",
              "      background-color: #434B5C;\n",
              "      box-shadow: 0px 1px 3px 1px rgba(0, 0, 0, 0.15);\n",
              "      filter: drop-shadow(0px 1px 2px rgba(0, 0, 0, 0.3));\n",
              "      fill: #FFFFFF;\n",
              "    }\n",
              "  </style>\n",
              "\n",
              "      <script>\n",
              "        const buttonEl =\n",
              "          document.querySelector('#df-175227d7-033e-45af-8311-62fa76981afa button.colab-df-convert');\n",
              "        buttonEl.style.display =\n",
              "          google.colab.kernel.accessAllowed ? 'block' : 'none';\n",
              "\n",
              "        async function convertToInteractive(key) {\n",
              "          const element = document.querySelector('#df-175227d7-033e-45af-8311-62fa76981afa');\n",
              "          const dataTable =\n",
              "            await google.colab.kernel.invokeFunction('convertToInteractive',\n",
              "                                                     [key], {});\n",
              "          if (!dataTable) return;\n",
              "\n",
              "          const docLinkHtml = 'Like what you see? Visit the ' +\n",
              "            '<a target=\"_blank\" href=https://colab.research.google.com/notebooks/data_table.ipynb>data table notebook</a>'\n",
              "            + ' to learn more about interactive tables.';\n",
              "          element.innerHTML = '';\n",
              "          dataTable['output_type'] = 'display_data';\n",
              "          await google.colab.output.renderOutput(dataTable, element);\n",
              "          const docLink = document.createElement('div');\n",
              "          docLink.innerHTML = docLinkHtml;\n",
              "          element.appendChild(docLink);\n",
              "        }\n",
              "      </script>\n",
              "    </div>\n",
              "  </div>\n",
              "  "
            ]
          },
          "metadata": {},
          "execution_count": 7
        }
      ]
    },
    {
      "cell_type": "code",
      "source": [
        "col_name=data.columns\n",
        "for i in col_name:\n",
        "    print(i,'has :',data[i].nunique(),\"Unique values\")"
      ],
      "metadata": {
        "colab": {
          "base_uri": "https://localhost:8080/"
        },
        "id": "Uf70IhjvXVIN",
        "outputId": "fc4b0835-8c76-4765-a9e3-08d0a16a9f38"
      },
      "execution_count": null,
      "outputs": [
        {
          "output_type": "stream",
          "name": "stdout",
          "text": [
            "Organization Group Code has : 7 Unique values\n",
            "Job Family Code has : 59 Unique values\n",
            "Job Code has : 1211 Unique values\n",
            "Year Type has : 3 Unique values\n",
            "Year has : 8 Unique values\n",
            "Organization Group has : 7 Unique values\n",
            "Department Code has : 60 Unique values\n",
            "Department has : 107 Unique values\n",
            "Union Code has : 70 Unique values\n",
            "Union has : 128 Unique values\n",
            "Job Family has : 59 Unique values\n",
            "Job has : 1346 Unique values\n",
            "Employee Identifier has : 219966 Unique values\n",
            "Salaries has : 286438 Unique values\n",
            "Overtime has : 161549 Unique values\n",
            "Other Salaries has : 193753 Unique values\n",
            "Total Salary has : 355517 Unique values\n",
            "Retirement has : 268328 Unique values\n",
            "Health and Dental has : 120862 Unique values\n",
            "Other Benefits has : 316300 Unique values\n",
            "Total Benefits has : 360803 Unique values\n",
            "Total Compensation has : 376110 Unique values\n"
          ]
        }
      ]
    },
    {
      "cell_type": "code",
      "source": [
        "data['Job Family Code'].unique()"
      ],
      "metadata": {
        "colab": {
          "base_uri": "https://localhost:8080/"
        },
        "id": "IYOTwYEAXdrp",
        "outputId": "d572b4f4-6d32-4e8c-d96e-b8de48ee3785"
      },
      "execution_count": null,
      "outputs": [
        {
          "output_type": "execute_result",
          "data": {
            "text/plain": [
              "array(['1000', '1200', '1600', '1800', '1400', '0900', '8400', '9700',\n",
              "       '9900', 'SCRT', '8100', '1500', '5200', '8200', '8600', '2500',\n",
              "       '1900', '6200', '2200', '2100', '2300', 'H000', 'Q000', '7100',\n",
              "       '7200', '7300', '2600', '2700', '7500', '8300', '2900', '1300',\n",
              "       '7400', '1700', '3300', '9200', '3400', '2400', '5100', '5300',\n",
              "       '5500', '5600', '6100', '6300', '9300', '3500', '3600', '4300',\n",
              "       '5400', '9100', '4100', '2800', '4200', '1100', '3200', 'SFRA',\n",
              "       '0000', '__UNASSIGNED__', '9500'], dtype=object)"
            ]
          },
          "metadata": {},
          "execution_count": 9
        }
      ]
    },
    {
      "cell_type": "code",
      "source": [
        "data['Job Code'].unique()"
      ],
      "metadata": {
        "colab": {
          "base_uri": "https://localhost:8080/"
        },
        "id": "Ufofhi5CaYIB",
        "outputId": "f2a9156f-c622-4111-bdbc-20b388e2048f"
      },
      "execution_count": null,
      "outputs": [
        {
          "output_type": "execute_result",
          "data": {
            "text/plain": [
              "array(['1021', '1023', '1031', ..., '3502', '3246', '1367'], dtype=object)"
            ]
          },
          "metadata": {},
          "execution_count": 10
        }
      ]
    },
    {
      "cell_type": "code",
      "source": [
        "data['Department Code'].unique()"
      ],
      "metadata": {
        "colab": {
          "base_uri": "https://localhost:8080/"
        },
        "id": "-KPgnQm5a3Rw",
        "outputId": "8c5badf9-ce80-4409-c28e-e39809503a36"
      },
      "execution_count": null,
      "outputs": [
        {
          "output_type": "execute_result",
          "data": {
            "text/plain": [
              "array(['ADP', 'CRT', 'DAT', 'ECD', 'FIR', 'JUV', 'PDR', 'POL', 'SHF',\n",
              "       'AIR', 'CWP', 'DBI', 'DPW', 'ECN', 'HHP', 'MTA', 'PAB', 'PRT',\n",
              "       'PUC', 'WTR', 'CFC', 'CHF', 'CII', 'CSS', 'DSS', 'ENV', 'HRC',\n",
              "       'RNT', 'WOM', 'DPH', 'AAM', 'ART', 'FAM', 'LIB', 'LLB', 'REC',\n",
              "       'SCI', 'WAR', 'ADM', 'ASR', 'BOS', 'CAT', 'CON', 'CPC', 'CSC',\n",
              "       'ETH', 'HRD', 'HSS', 'MYR', 'REG', 'RET', 'TIS', 'TTX', 'UNA',\n",
              "       'CLP', 'HOM', 'DEM', 'DPA', 'BOA', 'HSA', nan], dtype=object)"
            ]
          },
          "metadata": {},
          "execution_count": 11
        }
      ]
    },
    {
      "cell_type": "code",
      "source": [
        "from sklearn.cluster import KMeans"
      ],
      "metadata": {
        "id": "82_bvtU8c962"
      },
      "execution_count": null,
      "outputs": []
    },
    {
      "cell_type": "code",
      "source": [
        "kmeans=KMeans(n_clusters=3)"
      ],
      "metadata": {
        "id": "YntchNmadAZJ"
      },
      "execution_count": null,
      "outputs": []
    },
    {
      "cell_type": "code",
      "source": [
        "data.columns"
      ],
      "metadata": {
        "colab": {
          "base_uri": "https://localhost:8080/"
        },
        "id": "2lms9wpVdFO9",
        "outputId": "5fef0e63-df46-4a0d-ae0d-10e7e41d91f9"
      },
      "execution_count": null,
      "outputs": [
        {
          "output_type": "execute_result",
          "data": {
            "text/plain": [
              "Index(['Organization Group Code', 'Job Family Code', 'Job Code', 'Year Type',\n",
              "       'Year', 'Organization Group', 'Department Code', 'Department',\n",
              "       'Union Code', 'Union', 'Job Family', 'Job', 'Employee Identifier',\n",
              "       'Salaries', 'Overtime', 'Other Salaries', 'Total Salary', 'Retirement',\n",
              "       'Health and Dental', 'Other Benefits', 'Total Benefits',\n",
              "       'Total Compensation'],\n",
              "      dtype='object')"
            ]
          },
          "metadata": {},
          "execution_count": 14
        }
      ]
    },
    {
      "cell_type": "code",
      "source": [
        "df=data.drop(['Job Family Code','Job Code','Year Type','Organization Group','Department Code','Department','Union','Job Family','Job'],axis=1)"
      ],
      "metadata": {
        "id": "BWMLGw1tgmig"
      },
      "execution_count": null,
      "outputs": []
    },
    {
      "cell_type": "code",
      "source": [
        "df.shape"
      ],
      "metadata": {
        "colab": {
          "base_uri": "https://localhost:8080/"
        },
        "id": "xrlXbw_I1PD9",
        "outputId": "bdc1939f-51e6-4c5c-9c16-9c1ee98c41a6"
      },
      "execution_count": null,
      "outputs": [
        {
          "output_type": "execute_result",
          "data": {
            "text/plain": [
              "(384427, 13)"
            ]
          },
          "metadata": {},
          "execution_count": 23
        }
      ]
    },
    {
      "cell_type": "code",
      "source": [
        "df = df.dropna()"
      ],
      "metadata": {
        "id": "caZl3Vz7g7Sc"
      },
      "execution_count": null,
      "outputs": []
    },
    {
      "cell_type": "code",
      "source": [
        "kmeans.fit(df)"
      ],
      "metadata": {
        "colab": {
          "base_uri": "https://localhost:8080/"
        },
        "id": "Zy9zqAEsdGnZ",
        "outputId": "98e9f7ef-7ad8-482b-adab-1fc9dcd28d48"
      },
      "execution_count": null,
      "outputs": [
        {
          "output_type": "execute_result",
          "data": {
            "text/plain": [
              "KMeans(n_clusters=3)"
            ]
          },
          "metadata": {},
          "execution_count": 17
        }
      ]
    },
    {
      "cell_type": "code",
      "source": [
        "print(kmeans.cluster_centers_)"
      ],
      "metadata": {
        "colab": {
          "base_uri": "https://localhost:8080/"
        },
        "id": "ijNgP3ilh4jE",
        "outputId": "8eb63eb8-197a-473e-cd4a-05218278540b"
      },
      "execution_count": null,
      "outputs": [
        {
          "output_type": "stream",
          "name": "stdout",
          "text": [
            "[[2.96262607e+00 2.01755942e+03 4.94647773e+02 3.74064265e+07\n",
            "  7.32532655e+04 6.21906041e+03 3.79233645e+03 8.28021743e+04\n",
            "  1.38221089e+04 1.06530783e+04 5.21684652e+03 2.96920337e+04\n",
            "  1.12494208e+05]\n",
            " [2.92435915e+00 2.01424386e+03 4.96746238e+02 2.85324561e+04\n",
            "  6.46806091e+04 4.65812247e+03 3.94527211e+03 7.32839481e+04\n",
            "  1.28657491e+04 9.14904846e+03 4.66918046e+03 2.66839780e+04\n",
            "  9.99679260e+04]\n",
            " [2.98774673e+00 2.01949280e+03 4.94289711e+02 4.22400719e+07\n",
            "  8.42229322e+04 7.25336221e+03 4.30466740e+03 9.53524565e+04\n",
            "  1.77368629e+04 1.21519518e+04 5.93595259e+03 3.58247673e+04\n",
            "  1.31177224e+05]]\n"
          ]
        }
      ]
    },
    {
      "cell_type": "code",
      "source": [
        "y=kmeans.labels_\n",
        "print(y)"
      ],
      "metadata": {
        "colab": {
          "base_uri": "https://localhost:8080/"
        },
        "id": "R-xYxZ4rh-BA",
        "outputId": "2308e35d-5975-486d-d2d8-6e3a06bfd12f"
      },
      "execution_count": null,
      "outputs": [
        {
          "output_type": "stream",
          "name": "stdout",
          "text": [
            "[1 1 1 ... 1 1 1]\n"
          ]
        }
      ]
    },
    {
      "cell_type": "code",
      "source": [
        "sns.countplot(x=kmeans.labels_, palette='Oranges')\n",
        "plt.show()"
      ],
      "metadata": {
        "colab": {
          "base_uri": "https://localhost:8080/",
          "height": 265
        },
        "id": "vJGTAtpjiDsf",
        "outputId": "2d260c55-d811-4c51-f10e-189b3455343c"
      },
      "execution_count": null,
      "outputs": [
        {
          "output_type": "display_data",
          "data": {
            "text/plain": [
              "<Figure size 432x288 with 1 Axes>"
            ],
            "image/png": "[encoded data removed]"
          },
          "metadata": {
            "needs_background": "light"
          }
        }
      ]
    },
    {
      "cell_type": "code",
      "source": [
        "plt.scatter(df.iloc[:,0].values,df.iloc[:,3].values, c=kmeans.labels_, cmap=\"rainbow\")\n",
        "plt.show()"
      ],
      "metadata": {
        "colab": {
          "base_uri": "https://localhost:8080/",
          "height": 276
        },
        "id": "WjQNOUliiPwx",
        "outputId": "927e8956-7887-4416-8419-a104ff7825cc"
      },
      "execution_count": null,
      "outputs": [
        {
          "output_type": "display_data",
          "data": {
            "text/plain": [
              "<Figure size 432x288 with 1 Axes>"
            ],
            "image/png": "[encoded data removed]"
          },
          "metadata": {
            "needs_background": "light"
          }
        }
      ]
    },
    {
      "cell_type": "code",
      "source": [
        "wcss =[]\n",
        "plt.figure(figsize=(10,9))\n",
        "for i in range(1,10):\n",
        "  km = KMeans(n_clusters=i, init='k-means++')\n",
        "  km.fit(df)\n",
        "  wcss.append(km.inertia_)\n",
        "\n",
        "plt.plot(range(1,10),wcss,'r*-',marker='o')"
      ],
      "metadata": {
        "colab": {
          "base_uri": "https://localhost:8080/",
          "height": 565
        },
        "id": "UvOVtncW0xka",
        "outputId": "3766b1b2-66f5-44bd-a456-92ef643847ce"
      },
      "execution_count": null,
      "outputs": [
        {
          "output_type": "execute_result",
          "data": {
            "text/plain": [
              "[<matplotlib.lines.Line2D at 0x7fe36e3a2350>]"
            ]
          },
          "metadata": {},
          "execution_count": 24
        },
        {
          "output_type": "display_data",
          "data": {
            "text/plain": [
              "<Figure size 720x648 with 1 Axes>"
            ],
            "image/png": "[encoded data removed]"
          },
          "metadata": {
            "needs_background": "light"
          }
        }
      ]
    }
  ]
}